{
 "cells": [
  {
   "cell_type": "code",
   "execution_count": 1,
   "metadata": {},
   "outputs": [],
   "source": [
    "%matplotlib inline\n",
    "import pandas as pd \n",
    "\n",
    "from sklearn.naive_bayes import GaussianNB\n",
    "from sklearn import metrics\n",
    "\n",
    "import seaborn as sns\n",
    "\n",
    "sns.set_style('whitegrid')"
   ]
  },
  {
   "cell_type": "code",
   "execution_count": 2,
   "metadata": {},
   "outputs": [
    {
     "data": {
      "text/html": [
       "<div>\n",
       "<style scoped>\n",
       "    .dataframe tbody tr th:only-of-type {\n",
       "        vertical-align: middle;\n",
       "    }\n",
       "\n",
       "    .dataframe tbody tr th {\n",
       "        vertical-align: top;\n",
       "    }\n",
       "\n",
       "    .dataframe thead th {\n",
       "        text-align: right;\n",
       "    }\n",
       "</style>\n",
       "<table border=\"1\" class=\"dataframe\">\n",
       "  <thead>\n",
       "    <tr style=\"text-align: right;\">\n",
       "      <th></th>\n",
       "      <th>Unnamed: 0</th>\n",
       "      <th>track_id</th>\n",
       "      <th>album_date_created</th>\n",
       "      <th>album_date_released</th>\n",
       "      <th>album_favorites</th>\n",
       "      <th>album_id</th>\n",
       "      <th>album_listens</th>\n",
       "      <th>album_tags</th>\n",
       "      <th>album_title</th>\n",
       "      <th>album_tracks</th>\n",
       "      <th>...</th>\n",
       "      <th>track_language_code</th>\n",
       "      <th>track_listens</th>\n",
       "      <th>track_number</th>\n",
       "      <th>track_title</th>\n",
       "      <th>track_year_created</th>\n",
       "      <th>bit_rate_factor</th>\n",
       "      <th>listens_factor</th>\n",
       "      <th>interest_factor</th>\n",
       "      <th>track_price</th>\n",
       "      <th>track_length</th>\n",
       "    </tr>\n",
       "  </thead>\n",
       "  <tbody>\n",
       "    <tr>\n",
       "      <th>0</th>\n",
       "      <td>0</td>\n",
       "      <td>2</td>\n",
       "      <td>2008-11-26 1:44</td>\n",
       "      <td>2009-01-05 0:00</td>\n",
       "      <td>4</td>\n",
       "      <td>1</td>\n",
       "      <td>6073</td>\n",
       "      <td>[]</td>\n",
       "      <td>AWOL - A Way Of Life</td>\n",
       "      <td>7</td>\n",
       "      <td>...</td>\n",
       "      <td>en</td>\n",
       "      <td>1293</td>\n",
       "      <td>3</td>\n",
       "      <td>Food</td>\n",
       "      <td>2008</td>\n",
       "      <td>0.7</td>\n",
       "      <td>2</td>\n",
       "      <td>1.0</td>\n",
       "      <td>3.49</td>\n",
       "      <td>less than 3 minutes</td>\n",
       "    </tr>\n",
       "    <tr>\n",
       "      <th>1</th>\n",
       "      <td>1</td>\n",
       "      <td>3</td>\n",
       "      <td>2008-11-26 1:44</td>\n",
       "      <td>2009-01-05 0:00</td>\n",
       "      <td>4</td>\n",
       "      <td>1</td>\n",
       "      <td>6073</td>\n",
       "      <td>[]</td>\n",
       "      <td>AWOL - A Way Of Life</td>\n",
       "      <td>7</td>\n",
       "      <td>...</td>\n",
       "      <td>en</td>\n",
       "      <td>514</td>\n",
       "      <td>4</td>\n",
       "      <td>Electric Ave</td>\n",
       "      <td>2008</td>\n",
       "      <td>0.7</td>\n",
       "      <td>3</td>\n",
       "      <td>0.1</td>\n",
       "      <td>0.35</td>\n",
       "      <td>between 3 and 5 minutes</td>\n",
       "    </tr>\n",
       "    <tr>\n",
       "      <th>2</th>\n",
       "      <td>2</td>\n",
       "      <td>5</td>\n",
       "      <td>2008-11-26 1:44</td>\n",
       "      <td>2009-01-05 0:00</td>\n",
       "      <td>4</td>\n",
       "      <td>1</td>\n",
       "      <td>6073</td>\n",
       "      <td>[]</td>\n",
       "      <td>AWOL - A Way Of Life</td>\n",
       "      <td>7</td>\n",
       "      <td>...</td>\n",
       "      <td>en</td>\n",
       "      <td>1151</td>\n",
       "      <td>6</td>\n",
       "      <td>This World</td>\n",
       "      <td>2008</td>\n",
       "      <td>0.7</td>\n",
       "      <td>2</td>\n",
       "      <td>0.7</td>\n",
       "      <td>2.45</td>\n",
       "      <td>between 3 and 5 minutes</td>\n",
       "    </tr>\n",
       "    <tr>\n",
       "      <th>3</th>\n",
       "      <td>3</td>\n",
       "      <td>10</td>\n",
       "      <td>2008-11-26 1:45</td>\n",
       "      <td>2008-02-06 0:00</td>\n",
       "      <td>4</td>\n",
       "      <td>6</td>\n",
       "      <td>47632</td>\n",
       "      <td>[]</td>\n",
       "      <td>Constant Hitmaker</td>\n",
       "      <td>2</td>\n",
       "      <td>...</td>\n",
       "      <td>en</td>\n",
       "      <td>50135</td>\n",
       "      <td>1</td>\n",
       "      <td>Freeway</td>\n",
       "      <td>2008</td>\n",
       "      <td>0.5</td>\n",
       "      <td>1</td>\n",
       "      <td>1.0</td>\n",
       "      <td>2.5</td>\n",
       "      <td>less than 3 minutes</td>\n",
       "    </tr>\n",
       "    <tr>\n",
       "      <th>4</th>\n",
       "      <td>4</td>\n",
       "      <td>20</td>\n",
       "      <td>2008-11-26 1:45</td>\n",
       "      <td>2009-01-06 0:00</td>\n",
       "      <td>2</td>\n",
       "      <td>4</td>\n",
       "      <td>2710</td>\n",
       "      <td>[]</td>\n",
       "      <td>Niris</td>\n",
       "      <td>13</td>\n",
       "      <td>...</td>\n",
       "      <td>en</td>\n",
       "      <td>361</td>\n",
       "      <td>3</td>\n",
       "      <td>Spiritual Level</td>\n",
       "      <td>2008</td>\n",
       "      <td>0.7</td>\n",
       "      <td>4</td>\n",
       "      <td>0.1</td>\n",
       "      <td>0.35</td>\n",
       "      <td>between 5 and 7 minutes</td>\n",
       "    </tr>\n",
       "  </tbody>\n",
       "</table>\n",
       "<p>5 rows × 50 columns</p>\n",
       "</div>"
      ],
      "text/plain": [
       "  Unnamed: 0 track_id album_date_created album_date_released album_favorites  \\\n",
       "0          0        2    2008-11-26 1:44     2009-01-05 0:00               4   \n",
       "1          1        3    2008-11-26 1:44     2009-01-05 0:00               4   \n",
       "2          2        5    2008-11-26 1:44     2009-01-05 0:00               4   \n",
       "3          3       10    2008-11-26 1:45     2008-02-06 0:00               4   \n",
       "4          4       20    2008-11-26 1:45     2009-01-06 0:00               2   \n",
       "\n",
       "  album_id album_listens album_tags           album_title album_tracks  \\\n",
       "0        1          6073         []  AWOL - A Way Of Life            7   \n",
       "1        1          6073         []  AWOL - A Way Of Life            7   \n",
       "2        1          6073         []  AWOL - A Way Of Life            7   \n",
       "3        6         47632         []     Constant Hitmaker            2   \n",
       "4        4          2710         []                 Niris           13   \n",
       "\n",
       "            ...            track_language_code track_listens track_number  \\\n",
       "0           ...                             en          1293            3   \n",
       "1           ...                             en           514            4   \n",
       "2           ...                             en          1151            6   \n",
       "3           ...                             en         50135            1   \n",
       "4           ...                             en           361            3   \n",
       "\n",
       "       track_title track_year_created bit_rate_factor listens_factor  \\\n",
       "0             Food               2008             0.7              2   \n",
       "1     Electric Ave               2008             0.7              3   \n",
       "2       This World               2008             0.7              2   \n",
       "3          Freeway               2008             0.5              1   \n",
       "4  Spiritual Level               2008             0.7              4   \n",
       "\n",
       "  interest_factor track_price             track_length  \n",
       "0             1.0        3.49      less than 3 minutes  \n",
       "1             0.1        0.35  between 3 and 5 minutes  \n",
       "2             0.7        2.45  between 3 and 5 minutes  \n",
       "3             1.0         2.5      less than 3 minutes  \n",
       "4             0.1        0.35  between 5 and 7 minutes  \n",
       "\n",
       "[5 rows x 50 columns]"
      ]
     },
     "execution_count": 2,
     "metadata": {},
     "output_type": "execute_result"
    }
   ],
   "source": [
    "tracks = pd.read_csv('../../data/processed/tracks_processed.csv', dtype=object)\n",
    "tracks.head()"
   ]
  },
  {
   "cell_type": "markdown",
   "metadata": {},
   "source": [
    "# Feature Engineering"
   ]
  },
  {
   "cell_type": "code",
   "execution_count": 3,
   "metadata": {},
   "outputs": [],
   "source": [
    "# Modeling based on following features: \"album_listens\",\"track_bit_rate\",\"artist_id\", \"track_listens\"\n",
    "X_columns=[tracks.columns.get_loc(c) for c in tracks.columns if c in [\"album_listens\",\"track_bit_rate\",\"artist_id\", \"track_listens\"]]\n",
    "y_column = tracks.columns.get_loc('track_interest')"
   ]
  },
  {
   "cell_type": "markdown",
   "metadata": {},
   "source": [
    "# Model Training #1"
   ]
  },
  {
   "cell_type": "code",
   "execution_count": 5,
   "metadata": {
    "scrolled": true
   },
   "outputs": [
    {
     "name": "stdout",
     "output_type": "stream",
     "text": [
      "X_train (84720, 4)\n",
      "y_train (84720,)\n",
      "X_test (21180, 4)\n",
      "y_test (21180,)\n"
     ]
    }
   ],
   "source": [
    "# split the data\n",
    "\n",
    "threshold = 0.8\n",
    "absolute_threshold = int(len(tracks)*threshold)\n",
    "\n",
    "X_train = tracks.ix[:absolute_threshold, X_columns]\n",
    "y_train = tracks.ix[:absolute_threshold, y_column]\n",
    "\n",
    "X_test = tracks.ix[absolute_threshold:, X_columns]\n",
    "y_test = tracks.ix[absolute_threshold:, y_column]\n",
    "\n",
    "print('X_train', X_train.shape)\n",
    "print('y_train', y_train.shape)\n",
    "print('X_test', X_test.shape)\n",
    "print('y_test', y_test.shape)"
   ]
  },
  {
   "cell_type": "code",
   "execution_count": 6,
   "metadata": {
    "scrolled": true
   },
   "outputs": [],
   "source": [
    "model = GaussianNB()\n",
    "model.fit(X_train, y_train)\n",
    "y_pred = model.predict(X_test)"
   ]
  },
  {
   "cell_type": "code",
   "execution_count": 51,
   "metadata": {},
   "outputs": [
    {
     "name": "stdout",
     "output_type": "stream",
     "text": [
      "0.02%\n",
      "\n"
     ]
    }
   ],
   "source": [
    "# Model Accuracy for a model based on following features: \"album_listens\",\"track_bit_rate\",\"artist_id\", \"track_listens\"\n",
    "print('{:.2%}\\n'.format(metrics.accuracy_score(y_test, y_pred)))"
   ]
  },
  {
   "cell_type": "markdown",
   "metadata": {},
   "source": [
    "# Feature Engineering #2 based on track_bit_rate and track_listens"
   ]
  },
  {
   "cell_type": "code",
   "execution_count": 44,
   "metadata": {},
   "outputs": [],
   "source": [
    "# Modeling based on following features: \"track_bit_rate\",\"track_listens\"\n",
    "X_columns=[tracks.columns.get_loc(c) for c in tracks.columns if c in [\"track_bit_rate\",\"track_listens\"]]"
   ]
  },
  {
   "cell_type": "markdown",
   "metadata": {},
   "source": [
    "# Model Training #2 "
   ]
  },
  {
   "cell_type": "code",
   "execution_count": 45,
   "metadata": {},
   "outputs": [
    {
     "name": "stdout",
     "output_type": "stream",
     "text": [
      "X_train (84720, 2)\n",
      "y_train (84720,)\n",
      "X_test (21180, 2)\n",
      "y_test (21180,)\n"
     ]
    }
   ],
   "source": [
    "# split the data\n",
    "X_train = tracks.ix[:absolute_threshold, X_columns]\n",
    "y_train = tracks.ix[:absolute_threshold, y_column]\n",
    "\n",
    "X_test = tracks.ix[absolute_threshold:, X_columns]\n",
    "y_test = tracks.ix[absolute_threshold:, y_column]\n",
    "\n",
    "print('X_train', X_train.shape)\n",
    "print('y_train', y_train.shape)\n",
    "print('X_test', X_test.shape)\n",
    "print('y_test', y_test.shape)"
   ]
  },
  {
   "cell_type": "code",
   "execution_count": 46,
   "metadata": {},
   "outputs": [],
   "source": [
    "model.fit(X_train, y_train)\n",
    "y_pred = model.predict(X_test)"
   ]
  },
  {
   "cell_type": "code",
   "execution_count": 47,
   "metadata": {},
   "outputs": [
    {
     "name": "stdout",
     "output_type": "stream",
     "text": [
      "0.05%\n",
      "\n"
     ]
    }
   ],
   "source": [
    "# Model accuracy for a one based on following features: \"track_bit_rate\",\"track_listens\"\n",
    "print('{:.2%}\\n'.format(metrics.accuracy_score(y_test, y_pred)))"
   ]
  },
  {
   "cell_type": "markdown",
   "metadata": {},
   "source": [
    "# Feature Engineering #3 based on Track_listens"
   ]
  },
  {
   "cell_type": "code",
   "execution_count": 40,
   "metadata": {},
   "outputs": [],
   "source": [
    "# Modeling based on following features: track_listens\"\n",
    "X_columns=[tracks.columns.get_loc(c) for c in tracks.columns if c in [\"track_listens\"]]"
   ]
  },
  {
   "cell_type": "markdown",
   "metadata": {},
   "source": [
    "# Model Training #3"
   ]
  },
  {
   "cell_type": "code",
   "execution_count": 41,
   "metadata": {},
   "outputs": [
    {
     "name": "stdout",
     "output_type": "stream",
     "text": [
      "X_train (84720, 1)\n",
      "y_train (84720,)\n",
      "X_test (21180, 1)\n",
      "y_test (21180,)\n"
     ]
    }
   ],
   "source": [
    "X_train = tracks.ix[:absolute_threshold, X_columns]\n",
    "y_train = tracks.ix[:absolute_threshold, y_column]\n",
    "\n",
    "X_test = tracks.ix[absolute_threshold:, X_columns]\n",
    "y_test = tracks.ix[absolute_threshold:, y_column]\n",
    "\n",
    "print('X_train', X_train.shape)\n",
    "print('y_train', y_train.shape)\n",
    "print('X_test', X_test.shape)\n",
    "print('y_test', y_test.shape)"
   ]
  },
  {
   "cell_type": "code",
   "execution_count": 42,
   "metadata": {},
   "outputs": [],
   "source": [
    "model.fit(X_train, y_train)\n",
    "y_pred = model.predict(X_test)"
   ]
  },
  {
   "cell_type": "code",
   "execution_count": 43,
   "metadata": {},
   "outputs": [
    {
     "name": "stdout",
     "output_type": "stream",
     "text": [
      "0.13%\n",
      "\n"
     ]
    }
   ],
   "source": [
    "# Modeling based on track_listens\n",
    "print('{:.2%}\\n'.format(metrics.accuracy_score(y_test, y_pred)))"
   ]
  },
  {
   "cell_type": "markdown",
   "metadata": {},
   "source": [
    "# Feature Engineering #4 prediction based on track_listens and track_year_created"
   ]
  },
  {
   "cell_type": "code",
   "execution_count": 60,
   "metadata": {},
   "outputs": [],
   "source": [
    "# Modeling based on following features: \"track_year_created\",\"track_listens\"\n",
    "X_columns=[tracks.columns.get_loc(c) for c in tracks.columns if c in [\"track_listens\", \"track_year_created\"]]"
   ]
  },
  {
   "cell_type": "markdown",
   "metadata": {},
   "source": [
    "# Model Training #4"
   ]
  },
  {
   "cell_type": "code",
   "execution_count": 62,
   "metadata": {},
   "outputs": [
    {
     "name": "stdout",
     "output_type": "stream",
     "text": [
      "X_train (84720, 2)\n",
      "y_train (84720,)\n",
      "X_test (21180, 2)\n",
      "y_test (21180,)\n"
     ]
    }
   ],
   "source": [
    "X_train = tracks.ix[:absolute_threshold, X_columns]\n",
    "y_train = tracks.ix[:absolute_threshold, y_column]\n",
    "\n",
    "X_test = tracks.ix[absolute_threshold:, X_columns]\n",
    "y_test = tracks.ix[absolute_threshold:, y_column]\n",
    "\n",
    "print('X_train', X_train.shape)\n",
    "print('y_train', y_train.shape)\n",
    "print('X_test', X_test.shape)\n",
    "print('y_test', y_test.shape)"
   ]
  },
  {
   "cell_type": "code",
   "execution_count": 63,
   "metadata": {},
   "outputs": [],
   "source": [
    "model.fit(X_train, y_train)\n",
    "y_pred = model.predict(X_test)"
   ]
  },
  {
   "cell_type": "code",
   "execution_count": 64,
   "metadata": {},
   "outputs": [
    {
     "name": "stdout",
     "output_type": "stream",
     "text": [
      "0.18%\n",
      "\n"
     ]
    }
   ],
   "source": [
    "# Model accuracy for a one based on following features: \"track_year_created\",\"track_listens\"\n",
    "print('{:.2%}\\n'.format(metrics.accuracy_score(y_test, y_pred)))"
   ]
  },
  {
   "cell_type": "markdown",
   "metadata": {},
   "source": [
    "# Feature Engineering #5 prediction based on bit_rate_facor "
   ]
  },
  {
   "cell_type": "code",
   "execution_count": 53,
   "metadata": {},
   "outputs": [],
   "source": [
    "# Modeling based on bit_rate_factor\n",
    "X_columns=[tracks.columns.get_loc(c) for c in tracks.columns if c in [\"bit_rate_factor\"]]"
   ]
  },
  {
   "cell_type": "markdown",
   "metadata": {},
   "source": [
    "# Model Training #5"
   ]
  },
  {
   "cell_type": "code",
   "execution_count": 54,
   "metadata": {},
   "outputs": [
    {
     "name": "stdout",
     "output_type": "stream",
     "text": [
      "X_train (84720, 1)\n",
      "y_train (84720,)\n",
      "X_test (21180, 1)\n",
      "y_test (21180,)\n"
     ]
    }
   ],
   "source": [
    "X_train = tracks.ix[:absolute_threshold, X_columns]\n",
    "y_train = tracks.ix[:absolute_threshold, y_column]\n",
    "\n",
    "X_test = tracks.ix[absolute_threshold:, X_columns]\n",
    "y_test = tracks.ix[absolute_threshold:, y_column]\n",
    "\n",
    "print('X_train', X_train.shape)\n",
    "print('y_train', y_train.shape)\n",
    "print('X_test', X_test.shape)\n",
    "print('y_test', y_test.shape)"
   ]
  },
  {
   "cell_type": "code",
   "execution_count": 55,
   "metadata": {},
   "outputs": [],
   "source": [
    "model.fit(X_train, y_train)\n",
    "y_pred = model.predict(X_test)"
   ]
  },
  {
   "cell_type": "code",
   "execution_count": 56,
   "metadata": {},
   "outputs": [
    {
     "name": "stdout",
     "output_type": "stream",
     "text": [
      "0.00%\n",
      "\n"
     ]
    }
   ],
   "source": [
    "# Model accuracy for a one based on bit_rate_factor\n",
    "print('{:.2%}\\n'.format(metrics.accuracy_score(y_test, y_pred)))"
   ]
  }
 ],
 "metadata": {
  "kernelspec": {
   "display_name": "Python 3",
   "language": "python",
   "name": "python3"
  },
  "language_info": {
   "codemirror_mode": {
    "name": "ipython",
    "version": 3
   },
   "file_extension": ".py",
   "mimetype": "text/x-python",
   "name": "python",
   "nbconvert_exporter": "python",
   "pygments_lexer": "ipython3",
   "version": "3.6.4"
  }
 },
 "nbformat": 4,
 "nbformat_minor": 2
}
