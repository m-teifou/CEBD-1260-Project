{
 "cells": [
  {
   "cell_type": "code",
   "execution_count": 1,
   "metadata": {},
   "outputs": [],
   "source": [
    "import pandas as pd\n",
    "import numpy as np"
   ]
  },
  {
   "cell_type": "code",
   "execution_count": 2,
   "metadata": {},
   "outputs": [],
   "source": [
    "tracks = pd.read_csv('../../data/processed/tracks_processed.csv', dtype=object)\n",
    "\n",
    "tracks_genres = pd.read_csv('../../data/raw/genres.csv', dtype=object)\n"
   ]
  },
  {
   "cell_type": "code",
   "execution_count": null,
   "metadata": {},
   "outputs": [],
   "source": [
    "i = 0\n",
    "pos = tracks.columns.get_loc('genres')\n",
    "for genre_list in tracks['track_genres_all']:\n",
    "    X_list =\"\"\n",
    "    if genre_list is not np.nan:\n",
    "        for genre_id in (genre_list).split(','):\n",
    "            genre_id = genre_id.lstrip().rstrip()\n",
    "            genre_title = tracks_genres[tracks_genres['genre_id']==genre_id]['title']\n",
    "            X_list = ''.join(X_list + genre_title + ',')\n",
    "   \n",
    "        tracks.loc[i,'genres'] = X_list.rstrip(',')\n",
    "        i += 1"
   ]
  },
  {
   "cell_type": "code",
   "execution_count": 4,
   "metadata": {},
   "outputs": [],
   "source": [
    "tracks=tracks.drop(tracks[pd.isna(tracks['genres'])].index)"
   ]
  },
  {
   "cell_type": "code",
   "execution_count": 6,
   "metadata": {},
   "outputs": [],
   "source": [
    "tracks.to_csv('../../data/processed/tracks_genres.csv', sep=',')"
   ]
  }
 ],
 "metadata": {
  "kernelspec": {
   "display_name": "Python 3",
   "language": "python",
   "name": "python3"
  },
  "language_info": {
   "codemirror_mode": {
    "name": "ipython",
    "version": 3
   },
   "file_extension": ".py",
   "mimetype": "text/x-python",
   "name": "python",
   "nbconvert_exporter": "python",
   "pygments_lexer": "ipython3",
   "version": "3.6.4"
  }
 },
 "nbformat": 4,
 "nbformat_minor": 2
}
