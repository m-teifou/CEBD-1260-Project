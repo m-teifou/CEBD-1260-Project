{
 "cells": [
  {
   "cell_type": "code",
   "execution_count": 1,
   "metadata": {},
   "outputs": [],
   "source": [
    "import pandas as pd \n",
    "import pickle\n",
    "\n",
    "from sklearn import metrics\n",
    "\n",
    "import seaborn as sns\n",
    "\n",
    "# sklearn :: utils\n",
    "from sklearn.model_selection import train_test_split\n",
    "from sklearn.model_selection import KFold\n",
    "#from sklearn.metrics import confusion_matrix\n",
    "#from sklearn.metrics import precision_score\n",
    "#from sklearn.metrics import recall_score\n",
    "from sklearn.externals import joblib\n",
    "\n",
    "# sklearn :: model\n",
    "from sklearn.ensemble import RandomForestClassifier\n",
    "\n",
    "sns.set_style('whitegrid')"
   ]
  },
  {
   "cell_type": "code",
   "execution_count": 2,
   "metadata": {},
   "outputs": [
    {
     "data": {
      "text/html": [
       "<div>\n",
       "<style scoped>\n",
       "    .dataframe tbody tr th:only-of-type {\n",
       "        vertical-align: middle;\n",
       "    }\n",
       "\n",
       "    .dataframe tbody tr th {\n",
       "        vertical-align: top;\n",
       "    }\n",
       "\n",
       "    .dataframe thead th {\n",
       "        text-align: right;\n",
       "    }\n",
       "</style>\n",
       "<table border=\"1\" class=\"dataframe\">\n",
       "  <thead>\n",
       "    <tr style=\"text-align: right;\">\n",
       "      <th></th>\n",
       "      <th>Unnamed: 0</th>\n",
       "      <th>track_id</th>\n",
       "      <th>album_date_created</th>\n",
       "      <th>album_date_released</th>\n",
       "      <th>album_favorites</th>\n",
       "      <th>album_id</th>\n",
       "      <th>album_listens</th>\n",
       "      <th>album_tags</th>\n",
       "      <th>album_title</th>\n",
       "      <th>album_tracks</th>\n",
       "      <th>...</th>\n",
       "      <th>track_interest</th>\n",
       "      <th>track_language_code</th>\n",
       "      <th>track_listens</th>\n",
       "      <th>track_number</th>\n",
       "      <th>track_title</th>\n",
       "      <th>track_year_created</th>\n",
       "      <th>bit_rate_factor</th>\n",
       "      <th>listens_factor</th>\n",
       "      <th>interest_factor</th>\n",
       "      <th>track_price</th>\n",
       "    </tr>\n",
       "  </thead>\n",
       "  <tbody>\n",
       "    <tr>\n",
       "      <th>0</th>\n",
       "      <td>0</td>\n",
       "      <td>2</td>\n",
       "      <td>2008-11-26 1:44</td>\n",
       "      <td>2009-01-05 0:00</td>\n",
       "      <td>4</td>\n",
       "      <td>1</td>\n",
       "      <td>6073</td>\n",
       "      <td>[]</td>\n",
       "      <td>AWOL - A Way Of Life</td>\n",
       "      <td>7</td>\n",
       "      <td>...</td>\n",
       "      <td>4656</td>\n",
       "      <td>en</td>\n",
       "      <td>1293</td>\n",
       "      <td>3</td>\n",
       "      <td>Food</td>\n",
       "      <td>2008</td>\n",
       "      <td>0.7</td>\n",
       "      <td>2</td>\n",
       "      <td>1.0</td>\n",
       "      <td>3.49</td>\n",
       "    </tr>\n",
       "    <tr>\n",
       "      <th>1</th>\n",
       "      <td>1</td>\n",
       "      <td>3</td>\n",
       "      <td>2008-11-26 1:44</td>\n",
       "      <td>2009-01-05 0:00</td>\n",
       "      <td>4</td>\n",
       "      <td>1</td>\n",
       "      <td>6073</td>\n",
       "      <td>[]</td>\n",
       "      <td>AWOL - A Way Of Life</td>\n",
       "      <td>7</td>\n",
       "      <td>...</td>\n",
       "      <td>1470</td>\n",
       "      <td>en</td>\n",
       "      <td>514</td>\n",
       "      <td>4</td>\n",
       "      <td>Electric Ave</td>\n",
       "      <td>2008</td>\n",
       "      <td>0.7</td>\n",
       "      <td>3</td>\n",
       "      <td>0.1</td>\n",
       "      <td>0.35</td>\n",
       "    </tr>\n",
       "    <tr>\n",
       "      <th>2</th>\n",
       "      <td>2</td>\n",
       "      <td>5</td>\n",
       "      <td>2008-11-26 1:44</td>\n",
       "      <td>2009-01-05 0:00</td>\n",
       "      <td>4</td>\n",
       "      <td>1</td>\n",
       "      <td>6073</td>\n",
       "      <td>[]</td>\n",
       "      <td>AWOL - A Way Of Life</td>\n",
       "      <td>7</td>\n",
       "      <td>...</td>\n",
       "      <td>1933</td>\n",
       "      <td>en</td>\n",
       "      <td>1151</td>\n",
       "      <td>6</td>\n",
       "      <td>This World</td>\n",
       "      <td>2008</td>\n",
       "      <td>0.7</td>\n",
       "      <td>2</td>\n",
       "      <td>0.7</td>\n",
       "      <td>2.45</td>\n",
       "    </tr>\n",
       "    <tr>\n",
       "      <th>3</th>\n",
       "      <td>3</td>\n",
       "      <td>10</td>\n",
       "      <td>2008-11-26 1:45</td>\n",
       "      <td>2008-02-06 0:00</td>\n",
       "      <td>4</td>\n",
       "      <td>6</td>\n",
       "      <td>47632</td>\n",
       "      <td>[]</td>\n",
       "      <td>Constant Hitmaker</td>\n",
       "      <td>2</td>\n",
       "      <td>...</td>\n",
       "      <td>54881</td>\n",
       "      <td>en</td>\n",
       "      <td>50135</td>\n",
       "      <td>1</td>\n",
       "      <td>Freeway</td>\n",
       "      <td>2008</td>\n",
       "      <td>0.5</td>\n",
       "      <td>1</td>\n",
       "      <td>1.0</td>\n",
       "      <td>2.5</td>\n",
       "    </tr>\n",
       "    <tr>\n",
       "      <th>4</th>\n",
       "      <td>4</td>\n",
       "      <td>20</td>\n",
       "      <td>2008-11-26 1:45</td>\n",
       "      <td>2009-01-06 0:00</td>\n",
       "      <td>2</td>\n",
       "      <td>4</td>\n",
       "      <td>2710</td>\n",
       "      <td>[]</td>\n",
       "      <td>Niris</td>\n",
       "      <td>13</td>\n",
       "      <td>...</td>\n",
       "      <td>978</td>\n",
       "      <td>en</td>\n",
       "      <td>361</td>\n",
       "      <td>3</td>\n",
       "      <td>Spiritual Level</td>\n",
       "      <td>2008</td>\n",
       "      <td>0.7</td>\n",
       "      <td>4</td>\n",
       "      <td>0.1</td>\n",
       "      <td>0.35</td>\n",
       "    </tr>\n",
       "  </tbody>\n",
       "</table>\n",
       "<p>5 rows × 49 columns</p>\n",
       "</div>"
      ],
      "text/plain": [
       "  Unnamed: 0 track_id album_date_created album_date_released album_favorites  \\\n",
       "0          0        2    2008-11-26 1:44     2009-01-05 0:00               4   \n",
       "1          1        3    2008-11-26 1:44     2009-01-05 0:00               4   \n",
       "2          2        5    2008-11-26 1:44     2009-01-05 0:00               4   \n",
       "3          3       10    2008-11-26 1:45     2008-02-06 0:00               4   \n",
       "4          4       20    2008-11-26 1:45     2009-01-06 0:00               2   \n",
       "\n",
       "  album_id album_listens album_tags           album_title album_tracks  \\\n",
       "0        1          6073         []  AWOL - A Way Of Life            7   \n",
       "1        1          6073         []  AWOL - A Way Of Life            7   \n",
       "2        1          6073         []  AWOL - A Way Of Life            7   \n",
       "3        6         47632         []     Constant Hitmaker            2   \n",
       "4        4          2710         []                 Niris           13   \n",
       "\n",
       "      ...     track_interest track_language_code track_listens track_number  \\\n",
       "0     ...               4656                  en          1293            3   \n",
       "1     ...               1470                  en           514            4   \n",
       "2     ...               1933                  en          1151            6   \n",
       "3     ...              54881                  en         50135            1   \n",
       "4     ...                978                  en           361            3   \n",
       "\n",
       "       track_title track_year_created bit_rate_factor listens_factor  \\\n",
       "0             Food               2008             0.7              2   \n",
       "1     Electric Ave               2008             0.7              3   \n",
       "2       This World               2008             0.7              2   \n",
       "3          Freeway               2008             0.5              1   \n",
       "4  Spiritual Level               2008             0.7              4   \n",
       "\n",
       "  interest_factor track_price  \n",
       "0             1.0        3.49  \n",
       "1             0.1        0.35  \n",
       "2             0.7        2.45  \n",
       "3             1.0         2.5  \n",
       "4             0.1        0.35  \n",
       "\n",
       "[5 rows x 49 columns]"
      ]
     },
     "execution_count": 2,
     "metadata": {},
     "output_type": "execute_result"
    }
   ],
   "source": [
    "tracks = pd.read_csv('../../data/processed/tracks_processed.csv', dtype=object)\n",
    "tracks.head()"
   ]
  },
  {
   "cell_type": "markdown",
   "metadata": {},
   "source": [
    "# Feature Engineering"
   ]
  },
  {
   "cell_type": "code",
   "execution_count": 3,
   "metadata": {},
   "outputs": [],
   "source": [
    "X_columns=[tracks.columns.get_loc(c) for c in tracks.columns if c in [\"track_listens\", \"track_year_created\",\"bit_rate_factor\"]]\n",
    "y_column = tracks.columns.get_loc('interest_factor')"
   ]
  },
  {
   "cell_type": "markdown",
   "metadata": {},
   "source": [
    "# Model Training"
   ]
  },
  {
   "cell_type": "code",
   "execution_count": 4,
   "metadata": {
    "scrolled": true
   },
   "outputs": [
    {
     "name": "stdout",
     "output_type": "stream",
     "text": [
      "X_train (84720, 3)\n",
      "y_train (84720,)\n",
      "X_test (21180, 3)\n",
      "y_test (21180,)\n"
     ]
    },
    {
     "name": "stderr",
     "output_type": "stream",
     "text": [
      "/home/cloudera/anaconda3/lib/python3.6/site-packages/ipykernel_launcher.py:6: DeprecationWarning: \n",
      ".ix is deprecated. Please use\n",
      ".loc for label based indexing or\n",
      ".iloc for positional indexing\n",
      "\n",
      "See the documentation here:\n",
      "http://pandas.pydata.org/pandas-docs/stable/indexing.html#ix-indexer-is-deprecated\n",
      "  \n"
     ]
    }
   ],
   "source": [
    "# split the data\n",
    "\n",
    "threshold = 0.8\n",
    "absolute_threshold = int(len(tracks)*threshold)\n",
    "\n",
    "X_train = tracks.ix[:absolute_threshold, X_columns]\n",
    "y_train = tracks.ix[:absolute_threshold, y_column]\n",
    "\n",
    "X_test = tracks.ix[absolute_threshold:, X_columns]\n",
    "y_test = tracks.ix[absolute_threshold:, y_column]\n",
    "\n",
    "print('X_train', X_train.shape)\n",
    "print('y_train', y_train.shape)\n",
    "print('X_test', X_test.shape)\n",
    "print('y_test', y_test.shape)"
   ]
  },
  {
   "cell_type": "code",
   "execution_count": 5,
   "metadata": {},
   "outputs": [
    {
     "name": "stdout",
     "output_type": "stream",
     "text": [
      "Random Forest 10 ::  RandomForestClassifier(bootstrap=True, class_weight=None, criterion='gini',\n",
      "            max_depth=None, max_features='auto', max_leaf_nodes=None,\n",
      "            min_impurity_decrease=0.0, min_impurity_split=None,\n",
      "            min_samples_leaf=1, min_samples_split=2,\n",
      "            min_weight_fraction_leaf=0.0, n_estimators=10, n_jobs=1,\n",
      "            oob_score=False, random_state=None, verbose=0,\n",
      "            warm_start=False)\n"
     ]
    }
   ],
   "source": [
    "model = RandomForestClassifier(n_estimators=10)\n",
    "model.fit(X_train, y_train.values.ravel())\n",
    "print (\"Random Forest 10 :: \", model)"
   ]
  },
  {
   "cell_type": "code",
   "execution_count": 6,
   "metadata": {},
   "outputs": [],
   "source": [
    "# Dump the trained decision tree classifier with Pickle\n",
    "RF_pkl_filename = 'RandomForest10-model.pkl'\n",
    "# Open the file to save as pkl file\n",
    "RF_model_pkl = open(RF_pkl_filename, 'wb')\n",
    "pickle.dump(model, RF_model_pkl, protocol=2)\n",
    "# Close the pickle instances\n",
    "RF_model_pkl.close()"
   ]
  },
  {
   "cell_type": "code",
   "execution_count": 9,
   "metadata": {},
   "outputs": [
    {
     "name": "stdout",
     "output_type": "stream",
     "text": [
      "prediction:  ['0.5']\n"
     ]
    }
   ],
   "source": [
    "# load the model and predict\n",
    "#[\"track_listens\", \"track_year_created\",\"bit_rate_factor\"]\n",
    "model = joblib.load(RF_pkl_filename)\n",
    "prediction = model.predict([[200, 2002, 0.4]])\n",
    "print('prediction: ', prediction)"
   ]
  }
 ],
 "metadata": {
  "kernelspec": {
   "display_name": "Python 3",
   "language": "python",
   "name": "python3"
  },
  "language_info": {
   "codemirror_mode": {
    "name": "ipython",
    "version": 3
   },
   "file_extension": ".py",
   "mimetype": "text/x-python",
   "name": "python",
   "nbconvert_exporter": "python",
   "pygments_lexer": "ipython3",
   "version": "3.6.4"
  }
 },
 "nbformat": 4,
 "nbformat_minor": 2
}
